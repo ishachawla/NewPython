{
 "cells": [
  {
   "cell_type": "markdown",
   "metadata": {
    "collapsed": false
   },
   "source": [
    "Analysis on Categories of Books and Most Popular Books"
   ]
  },
  {
   "cell_type": "code",
   "execution_count": 1,
   "metadata": {
    "collapsed": true
   },
   "outputs": [],
   "source": [
    "import os\n",
    "import csv\n",
    "import json\n",
    "import datetime\n",
    "import dateutil.parser as parser\n",
    "import matplotlib.pyplot as plt\n",
    "import pylab"
   ]
  },
  {
   "cell_type": "code",
   "execution_count": 2,
   "metadata": {
    "collapsed": true
   },
   "outputs": [],
   "source": [
    "loc=r'C:\\Users\\ishac\\Midterm\\Question2'\n",
    "books_loc=os.path.join(loc,'Books')\n",
    "articles_loc=os.path.join(loc,'Articles')"
   ]
  },
  {
   "cell_type": "code",
   "execution_count": 36,
   "metadata": {
    "collapsed": false
   },
   "outputs": [],
   "source": [
    "#Articles Published in a certain category\n",
    "tempart=[]\n",
    "results=0\n",
    "index=0\n",
    "for direct, subdir, files in os.walk(articles_loc):\n",
    "    for file in files:\n",
    "        with open(os.path.join(direct,file),'r',encoding='utf-8',errors='ignore') as json_input:\n",
    "                tempart.append(json.load(json_input))"
   ]
  },
  {
   "cell_type": "code",
   "execution_count": 4,
   "metadata": {
    "collapsed": false,
    "scrolled": true
   },
   "outputs": [],
   "source": [
    "#Books Published in a certain category\n",
    "temp=[]\n",
    "results=0\n",
    "index=0\n",
    "for direct, subdir, files in os.walk(books_loc):\n",
    "    for file in files:\n",
    "        with open(os.path.join(direct,file),'r',encoding='utf-8',errors='ignore') as json_input:\n",
    "                 temp.append(json.load(json_input))\n",
    "                           \n",
    "                        "
   ]
  },
  {
   "cell_type": "code",
   "execution_count": 5,
   "metadata": {
    "collapsed": false
   },
   "outputs": [],
   "source": [
    "Index=0\n",
    "with open('NewCategoryBooks.csv','w') as csvfile:\n",
    "    writer = csv.writer(csvfile)  \n",
    "    writer.writerow(['Index','Category','NumberofBooksPublished'])\n",
    "    for i in range(len(temp)):\n",
    "            Index=Index+1\n",
    "            if temp[i][0]['results'][i]['list_name'] not in \"NewCategoryBooks.csv\":\n",
    "                writer.writerow([Index,temp[i][0]['results'][i]['list_name'],temp[i][0]['num_results']])\n",
    "    "
   ]
  },
  {
   "cell_type": "code",
   "execution_count": 6,
   "metadata": {
    "collapsed": false
   },
   "outputs": [],
   "source": [
    "#books published in a year\n",
    "date=[]\n",
    "for i in range(len(temp)):\n",
    "    for j in range(0,temp[i][0]['num_results']):\n",
    "        date.append(parser.parse(temp[i][0]['results'][j]['published_date']).year)\n",
    "        #print(date)\n",
    "        diDate={}\n",
    "        for d in date:\n",
    "            if d in diDate:\n",
    "                diDate[d]=diDate[d]+1\n",
    "            else:\n",
    "                diDate[d]=1           "
   ]
  },
  {
   "cell_type": "code",
   "execution_count": 7,
   "metadata": {
    "collapsed": false
   },
   "outputs": [
    {
     "data": {
      "image/png": "[encoded data removed]",
      "text/plain": [
       "<matplotlib.figure.Figure at 0x2533fe68748>"
      ]
     },
     "metadata": {},
     "output_type": "display_data"
    }
   ],
   "source": [
    "plt.bar(range(len(diDate)), diDate.values(), align='center')\n",
    "plt.xticks(range(len(diDate)), list(diDate.keys()))\n",
    "plt.show()"
   ]
  },
  {
   "cell_type": "code",
   "execution_count": 8,
   "metadata": {
    "collapsed": false
   },
   "outputs": [],
   "source": [
    "#articles published in a year\n",
    "dateart=[]\n",
    "for i in range(len(tempart)):\n",
    "    for j in range(0,tempart[i][0]['num_results']):\n",
    "        dateart.append(parser.parse(tempart[i][0]['results'][i]['published_date']).year)\n",
    "        #print(date)\n",
    "        diDateArt={}\n",
    "        for d in dateart:\n",
    "            if d in diDateArt:\n",
    "                diDateArt[d]=diDateArt[d]+1\n",
    "            else:\n",
    "                diDateArt[d]=1 "
   ]
  },
  {
   "cell_type": "code",
   "execution_count": 9,
   "metadata": {
    "collapsed": false
   },
   "outputs": [
    {
     "data": {
      "image/png": "[encoded data removed]",
      "text/plain": [
       "<matplotlib.figure.Figure at 0x25340290630>"
      ]
     },
     "metadata": {},
     "output_type": "display_data"
    }
   ],
   "source": [
    "plt.bar(range(len(diDateArt)), diDateArt.values(), align='center')\n",
    "plt.xticks(range(len(diDateArt)), list(diDateArt.keys()))\n",
    "plt.show()"
   ]
  },
  {
   "cell_type": "code",
   "execution_count": 10,
   "metadata": {
    "collapsed": false
   },
   "outputs": [],
   "source": [
    "#books and articles published in a year\n",
    "masterdate=date+dateart\n",
    "di={}\n",
    "for d in masterdate:\n",
    "    if d in di:\n",
    "        di[d]=di[d]+1\n",
    "    else:\n",
    "        di[d]=1"
   ]
  },
  {
   "cell_type": "code",
   "execution_count": 11,
   "metadata": {
    "collapsed": false
   },
   "outputs": [
    {
     "data": {
      "image/png": "[encoded data removed]",
      "text/plain": [
       "<matplotlib.figure.Figure at 0x2533ff05630>"
      ]
     },
     "metadata": {},
     "output_type": "display_data"
    }
   ],
   "source": [
    "plt.bar(range(len(di)), di.values(), align='center')\n",
    "plt.xticks(range(len(di)), list(di.keys()))\n",
    "plt.show()"
   ]
  },
  {
   "cell_type": "code",
   "execution_count": 12,
   "metadata": {
    "collapsed": false
   },
   "outputs": [],
   "source": [
    "#Books in a year in a certain category\n",
    "for i in range(len(temp)):\n",
    "    for j in range(0,temp[i][0]['num_results']):\n",
    "        category=temp[i][0]['results'][j]['list_name']\n",
    "        #print(category)"
   ]
  },
  {
   "cell_type": "code",
   "execution_count": 13,
   "metadata": {
    "collapsed": false
   },
   "outputs": [],
   "source": [
    "Index=0\n",
    "with open('CategoricalBookYear.csv','w') as csvfile:\n",
    "    writer = csv.writer(csvfile)  \n",
    "    writer.writerow(['Index','Category','PublishedYear','PublishedMonth','Total'])\n",
    "    for i in range(len(temp)):\n",
    "        Index+=1\n",
    "        writer.writerow([Index,temp[i][0]['results'][i]['list_name'],parser.parse(temp[i][0]['results'][i]['published_date']).year,parser.parse(temp[i][0]['results'][i]['published_date']).month,\n",
    "                        temp[i][0]['num_results']])"
   ]
  },
  {
   "cell_type": "code",
   "execution_count": 37,
   "metadata": {
    "collapsed": false,
    "scrolled": true
   },
   "outputs": [],
   "source": [
    "Index=0\n",
    "with open('CategoricalArticleYear.csv','w') as csvfile:\n",
    "    writer = csv.writer(csvfile)  \n",
    "    writer.writerow(['Index','Category','PublishedYear','PublishedMonth','Total'])\n",
    "    for i in range(len(tempart)):\n",
    "        for j in range(len('results')):\n",
    "                Index+=1\n",
    "                writer.writerow([Index,tempart[i][0]['results'][j]['column'],parser.parse(tempart[i][0]['results'][j]['published_date']).year,parser.parse(tempart[i][0]['results'][j]['published_date']).month,\n",
    "                        tempart[i][0]['num_results']])"
   ]
  },
  {
   "cell_type": "code",
   "execution_count": 15,
   "metadata": {
    "collapsed": false
   },
   "outputs": [
    {
     "name": "stdout",
     "output_type": "stream",
     "text": [
      "Enter a Category?(Harcover fiction,Hardcover Nonfiction,Travel,Sports,Education)Sports\n"
     ]
    }
   ],
   "source": [
    "Index=0\n",
    "cat=input(\"Enter a Category?(Harcover fiction,Hardcover Nonfiction,Travel,Sports,Education)\")\n",
    "for i in range(len(temp)):\n",
    "    if temp[i][0]['results'][i]['list_name'] == cat:\n",
    "        with open('BookList.csv','w') as csvfile:\n",
    "            writer = csv.writer(csvfile)  \n",
    "            writer.writerow(['Index','Category','BookName','Publisher','Contributor','PublishedDate','BestSellersDate','url'])\n",
    "            for i in range(len(temp)):\n",
    "                #for j in range(0,temp[i][0]['num_results']):\n",
    "                    Index+=1\n",
    "                    writer.writerow([Index,cat,temp[i][0]['results'][i]['book_details'][0]['title'],\n",
    "                                temp[i][0]['results'][i]['book_details'][0]['publisher'],\n",
    "                                temp[i][0]['results'][i]['book_details'][0]['contributor'],\n",
    "                                temp[i][0]['results'][i]['published_date'],\n",
    "                                temp[i][0]['results'][i]['bestsellers_date'],\n",
    "                                temp[i][0]['results'][i]['amazon_product_url']])    "
   ]
  },
  {
   "cell_type": "code",
   "execution_count": 38,
   "metadata": {
    "collapsed": false
   },
   "outputs": [
    {
     "name": "stdout",
     "output_type": "stream",
     "text": [
      "Enter a Category(Help Desk,Nonfiction,Books News,Recommended Reads,Further Reading,Bookends)?Nonfiction\n"
     ]
    }
   ],
   "source": [
    "Index=0\n",
    "art=input(\"Enter a Category(Help Desk,Nonfiction,Books News,Recommended Reads,Further Reading,Bookends)?\")\n",
    "for i in range(len(tempart)):\n",
    "    for j in range(len('results')):\n",
    "        if tempart[i][0]['results'][j]['column'] == art:\n",
    "            with open('ArtList.csv','w') as csvfile:\n",
    "                writer = csv.writer(csvfile)  \n",
    "                writer.writerow(['Index','Category','ArticleTitle','Publisher','Contributor','PublishedDate','BestSellersDate','url'])\n",
    "                for i in range(len(tempart)):\n",
    "                     for j in range(len('results')):\n",
    "                        Index+=1\n",
    "                        writer.writerow([Index,art,tempart[i][0]['results'][j]['title'],\n",
    "                                        tempart[i][0]['results'][j]['byline'],\n",
    "                                        tempart[i][0]['results'][j]['source'],\n",
    "                                        tempart[i][0]['results'][j]['published_date'],\n",
    "                                        'none',tempart[i][0]['results'][j]['url']])\n",
    "                        "
   ]
  },
  {
   "cell_type": "code",
   "execution_count": null,
   "metadata": {
    "collapsed": false
   },
   "outputs": [],
   "source": []
  },
  {
   "cell_type": "code",
   "execution_count": null,
   "metadata": {
    "collapsed": true
   },
   "outputs": [],
   "source": []
  },
  {
   "cell_type": "code",
   "execution_count": null,
   "metadata": {
    "collapsed": true
   },
   "outputs": [],
   "source": []
  }
 ],
 "metadata": {
  "kernelspec": {
   "display_name": "Python 3",
   "language": "python",
   "name": "python3"
  },
  "language_info": {
   "codemirror_mode": {
    "name": "ipython",
    "version": 3
   },
   "file_extension": ".py",
   "mimetype": "text/x-python",
   "name": "python",
   "nbconvert_exporter": "python",
   "pygments_lexer": "ipython3",
   "version": "3.6.0"
  }
 },
 "nbformat": 4,
 "nbformat_minor": 2
}
