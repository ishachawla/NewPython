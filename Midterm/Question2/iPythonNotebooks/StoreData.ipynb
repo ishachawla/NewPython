{
 "cells": [
  {
   "cell_type": "code",
   "execution_count": 21,
   "metadata": {
    "collapsed": true
   },
   "outputs": [],
   "source": [
    "import argparse\n",
    "import requests\n",
    "import os\n",
    "import json\n",
    "import glob\n",
    "import csv\n",
    "import unicodecsv as csv"
   ]
  },
  {
   "cell_type": "code",
   "execution_count": 2,
   "metadata": {
    "collapsed": false
   },
   "outputs": [
    {
     "name": "stdout",
     "output_type": "stream",
     "text": [
      "Enter the time-period(1,7,30)?1\n",
      "https://api.nytimes.com/svc/mostpopular/v2/mostviewed/Books/1.json?api_key=449bf551ea9d4c0aaf77e1fdfa2b0b3f\n"
     ]
    }
   ],
   "source": [
    "time_period=input(\"Enter the time-period(1,7,30)?\")\n",
    "popularurl=\"https://api.nytimes.com/svc/mostpopular/v2/mostviewed/Books/\"+time_period+\".json\" # finding the api for diff time periods\n",
    "popularkey='449bf551ea9d4c0aaf77e1fdfa2b0b3f'  #Appending the Api Key \n",
    "popularnew_url=popularurl+'?'+'api_key='+popularkey  #final url\n",
    "print(popularnew_url)"
   ]
  },
  {
   "cell_type": "code",
   "execution_count": 3,
   "metadata": {
    "collapsed": false
   },
   "outputs": [
    {
     "name": "stdout",
     "output_type": "stream",
     "text": [
      "Maybe this works\n"
     ]
    }
   ],
   "source": [
    "loc=r'C:\\Users\\ishac\\Midterm\\Question2'\n",
    "os.chdir(loc)\n",
    "PopularData=[]\n",
    "PopularData.append(requests.get(popularnew_url).json())\n",
    "ArticlesDirectory=\"Articles\"\n",
    "if not os.path.exists(ArticlesDirectory):  \n",
    "    os.makedirs(ArticlesDirectory)       # create a directory\n",
    "    os.chdir(loc+'\\\\'+'Articles')\n",
    "    with open('Articles'+time_period+'.json','w') as outfile:   #Dumping different timeperiod files in the articles folder\n",
    "            json.dump(PopularData,outfile)\n",
    "            print(\"Maybe this works\")\n",
    "else:\n",
    "    os.chdir(loc+'\\\\'+'Articles')\n",
    "    with open('Articles'+time_period+'.json','w') as outfile:\n",
    "            json.dump(PopularData,outfile)\n",
    "            print(\"Maybe this works\")"
   ]
  },
  {
   "cell_type": "code",
   "execution_count": 44,
   "metadata": {
    "collapsed": false
   },
   "outputs": [
    {
     "ename": "SyntaxError",
     "evalue": "unexpected EOF while parsing (<ipython-input-44-e3c7e30a64b2>, line 11)",
     "output_type": "error",
     "traceback": [
      "\u001b[0;36m  File \u001b[0;32m\"<ipython-input-44-e3c7e30a64b2>\"\u001b[0;36m, line \u001b[0;32m11\u001b[0m\n\u001b[0;31m    \u001b[0m\n\u001b[0m    ^\u001b[0m\n\u001b[0;31mSyntaxError\u001b[0m\u001b[0;31m:\u001b[0m unexpected EOF while parsing\n"
     ]
    }
   ],
   "source": [
    "#Type of Books Available\n",
    "typedata=[]\n",
    "url='https://api.nytimes.com/svc/books/v3/lists/names.json'\n",
    "key='449bf551ea9d4c0aaf77e1fdfa2b0b3f'\n",
    "typeurl=url+'?api-key='+key\n",
    "#print(typeurl)\n",
    "typedata.append(requests.get(typeurl).json())   \n",
    "for i in range(len(typedata)):\n",
    "   for j in range(0,53):\n",
    "    #print(typedata[0]['results'][j]['list_name'])\n",
    "    "
   ]
  },
  {
   "cell_type": "code",
   "execution_count": 42,
   "metadata": {
    "collapsed": false
   },
   "outputs": [
    {
     "name": "stdout",
     "output_type": "stream",
     "text": [
      "What type of articles/books you need?Education\n",
      "Enter the publishing date of the book(YYYY-MM-DD)?2017-01-15\n",
      "https://api.nytimes.com/svc/books/v3/lists.json?list=Education&published-date=2017-01-15&api_key=449bf551ea9d4c0aaf77e1fdfa2b0b3f\n"
     ]
    }
   ],
   "source": [
    "url= \"https://api.nytimes.com/svc/books/v3/lists.json\"\n",
    "key=\"449bf551ea9d4c0aaf77e1fdfa2b0b3f\"\n",
    "book_type=input('What type of articles/books you need?')\n",
    "publish_date=input('Enter the publishing date of the book(YYYY-MM-DD)?')\n",
    "new_url=url+'?'+'list='+book_type+'&'+'published-date='+publish_date+'&'+'api_key='+key\n",
    "print(new_url)\n",
    "    "
   ]
  },
  {
   "cell_type": "code",
   "execution_count": 45,
   "metadata": {
    "collapsed": false
   },
   "outputs": [
    {
     "name": "stdout",
     "output_type": "stream",
     "text": [
      "C:\\Users\\ishac\\Midterm\\Question2\\Books\n"
     ]
    }
   ],
   "source": [
    "loc=r'C:\\Users\\ishac\\Midterm\\Question2'\n",
    "os.chdir(loc)\n",
    "BestSellerData=[]\n",
    "BestSellerData.append(requests.get(new_url).json())\n",
    "BooksDirectory=\"Books\"\n",
    "if not os.path.exists(BooksDirectory):\n",
    "        os.makedirs(BooksDirectory)\n",
    "        current_loc=loc+'\\\\'+\"Books\"\n",
    "        os.chdir(current_loc)\n",
    "        for i in range(len(BestSellerData)):\n",
    "               for j in range(len('results')):\n",
    "                category=BestSellerData[i][\"results\"][j][\"list_name\"][0]\n",
    "                if not os.path.exists(os.path.join(current_loc,category)):  \n",
    "                        os.makedirs(os.path.join(current_loc,category)) \n",
    "                        os.chdir(os.path.join(current_loc,category))\n",
    "                with open(publish_date+'.json','w') as outfile:\n",
    "                            json.dump(BestSellerData,outfile)\n",
    "                            #print(\"Maybe this works\")               \n",
    "else:\n",
    "                 current=os.path.join(loc,BooksDirectory)\n",
    "                 print(current)\n",
    "                 for i in range(len(BestSellerData)):\n",
    "                       for j in range(len('results')):\n",
    "                            category=BestSellerData[i][\"results\"][j][\"list_name\"]\n",
    "                            if not os.path.exists(os.path.join(current,category)):  \n",
    "                                os.makedirs(os.path.join(current,category)) \n",
    "                                os.chdir(os.path.join(current,category))\n",
    "                                with open(publish_date+'.json','w') as outfile:\n",
    "                                    json.dump(BestSellerData,outfile)\n",
    "                                    #print(\"Maybe this works\")\n",
    "                            else:\n",
    "                                os.chdir(os.path.join(current,category))\n",
    "                                with open(publish_date+'.json','w') as outfile:\n",
    "                                    json.dump(BestSellerData,outfile)\n",
    "                                    #print(\"Maybe this works\")\n",
    "                    \n",
    "                            "
   ]
  },
  {
   "cell_type": "code",
   "execution_count": null,
   "metadata": {
    "collapsed": false
   },
   "outputs": [],
   "source": [
    "\n",
    "    "
   ]
  },
  {
   "cell_type": "code",
   "execution_count": 174,
   "metadata": {
    "collapsed": false
   },
   "outputs": [],
   "source": [
    "\n",
    "        \n",
    "        "
   ]
  },
  {
   "cell_type": "code",
   "execution_count": null,
   "metadata": {
    "collapsed": false
   },
   "outputs": [],
   "source": [
    "\n",
    "\n"
   ]
  },
  {
   "cell_type": "code",
   "execution_count": null,
   "metadata": {
    "collapsed": false
   },
   "outputs": [],
   "source": []
  },
  {
   "cell_type": "code",
   "execution_count": null,
   "metadata": {
    "collapsed": true
   },
   "outputs": [],
   "source": []
  }
 ],
 "metadata": {
  "kernelspec": {
   "display_name": "Python 3",
   "language": "python",
   "name": "python3"
  },
  "language_info": {
   "codemirror_mode": {
    "name": "ipython",
    "version": 3
   },
   "file_extension": ".py",
   "mimetype": "text/x-python",
   "name": "python",
   "nbconvert_exporter": "python",
   "pygments_lexer": "ipython3",
   "version": "3.6.0"
  }
 },
 "nbformat": 4,
 "nbformat_minor": 2
}
