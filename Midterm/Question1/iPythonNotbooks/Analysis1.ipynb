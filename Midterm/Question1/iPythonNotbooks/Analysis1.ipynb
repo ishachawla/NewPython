{
 "cells": [
  {
   "cell_type": "markdown",
   "metadata": {},
   "source": [
    "Graph and csv showing maximum number of mails were sent in which month"
   ]
  },
  {
   "cell_type": "code",
   "execution_count": 52,
   "metadata": {
    "collapsed": true
   },
   "outputs": [],
   "source": [
    "import os\n",
    "from email.parser import Parser\n",
    "import nltk\n",
    "from nltk.tokenize import word_tokenize\n",
    "from nltk.corpus import stopwords\n",
    "import csv\n",
    "import datetime\n",
    "import dateutil.parser as parser\n",
    "import matplotlib.pyplot as plt"
   ]
  },
  {
   "cell_type": "code",
   "execution_count": 2,
   "metadata": {
    "collapsed": false
   },
   "outputs": [
    {
     "name": "stdout",
     "output_type": "stream",
     "text": [
      "C:\\Users\\ishac\\enron_mail_20150507\\skilling-j\\sent_items [] 56\n"
     ]
    }
   ],
   "source": [
    "dir1=r\"C:\\Users\\ishac\\enron_mail_20150507\\skilling-j\\sent_items\"   #Directory of the emails sent from one time CEO"
   ]
  },
  {
   "cell_type": "code",
   "execution_count": 3,
   "metadata": {
    "collapsed": false
   },
   "outputs": [
    {
     "name": "stdout",
     "output_type": "stream",
     "text": [
      "C:\\Users\\ishac\\enron_mail_20150507\\kitchen-l\\sent_items [] 55\n"
     ]
    }
   ],
   "source": [
    "dir2=r'C:\\Users\\ishac\\enron_mail_20150507\\kitchen-l\\sent_items"
   ]
  },
  {
   "cell_type": "code",
   "execution_count": 16,
   "metadata": {
    "collapsed": false
   },
   "outputs": [],
   "source": [
    "\n",
    "def email_analyse(inputfile, to_email_list, from_email_list, email_date):\n",
    "    with open(inputfile, \"r\") as f:\n",
    "        data = f.read()\n",
    "        email = Parser().parsestr(data) \n",
    "    if email['to']:\n",
    "        email_to = email['to']\n",
    "        email_to = email_to.replace(\"\\n\", \"\")\n",
    "        email_to = email_to.replace(\"\\t\", \"\")\n",
    "        email_to = email_to.replace(\" \", \"\")\n",
    "\n",
    "        email_to = email_to.split(\",\")\n",
    "\n",
    "        for email_to_1 in email_to:\n",
    "            to_email_list.append(email_to_1)\n",
    "\n",
    "    from_email_list.append(email['from'])\n",
    "    email_date.append(email['date'])"
   ]
  },
  {
   "cell_type": "code",
   "execution_count": 17,
   "metadata": {
    "collapsed": false
   },
   "outputs": [],
   "source": [
    "to_email_list=[]\n",
    "from_email_list=[]\n",
    "email_date1=[]\n",
    "for directory, subdirectory, filenames in  os.walk(dir1):\n",
    "    for filename in filenames:\n",
    "        email_analyse(os.path.join(directory, filename), to_email_list, from_email_list, email_date1)"
   ]
  },
  {
   "cell_type": "code",
   "execution_count": 18,
   "metadata": {
    "collapsed": false
   },
   "outputs": [],
   "source": [
    "to_email_list=[]\n",
    "from_email_list=[]\n",
    "email_date2=[]\n",
    "for directory, subdirectory, filenames in  os.walk(dir2):\n",
    "    for filename in filenames:\n",
    "        email_analyse(os.path.join(directory, filename), to_email_list, from_email_list, email_date2)"
   ]
  },
  {
   "cell_type": "code",
   "execution_count": 44,
   "metadata": {
    "collapsed": false
   },
   "outputs": [],
   "source": [
    "date1=[]\n",
    "for i in range(len(email_date1)):\n",
    "    date1.append(parser.parse(email_date1[i]).month)\n",
    "    "
   ]
  },
  {
   "cell_type": "code",
   "execution_count": 45,
   "metadata": {
    "collapsed": false
   },
   "outputs": [],
   "source": [
    "date2=[]\n",
    "for i in range(len(email_date2)):\n",
    "    date2.append(parser.parse(email_date2[i]).month)"
   ]
  },
  {
   "cell_type": "code",
   "execution_count": 46,
   "metadata": {
    "collapsed": false
   },
   "outputs": [],
   "source": [
    "master_date=date1+date2"
   ]
  },
  {
   "cell_type": "code",
   "execution_count": 51,
   "metadata": {
    "collapsed": false
   },
   "outputs": [
    {
     "name": "stdout",
     "output_type": "stream",
     "text": [
      "{5: 27, 8: 6, 4: 21, 2: 102, 9: 80, 1: 371, 7: 2, 10: 388, 11: 39, 12: 150}\n"
     ]
    }
   ],
   "source": [
    "di={}\n",
    "for date in master_date:\n",
    "        if date in di:\n",
    "            di[date]=di[date]+1\n",
    "        else:\n",
    "            di[date]=1\n",
    "            \n",
    "print(di)"
   ]
  },
  {
   "cell_type": "code",
   "execution_count": 53,
   "metadata": {
    "collapsed": false
   },
   "outputs": [
    {
     "data": {
      "image/png": "[encoded data removed]",
      "text/plain": [
       "<matplotlib.figure.Figure at 0x1f02d6512b0>"
      ]
     },
     "metadata": {},
     "output_type": "display_data"
    }
   ],
   "source": [
    "plt.bar(range(len(di)), di.values(), align='center')\n",
    "plt.xticks(range(len(di)), list(di.keys()))\n",
    "plt.show()"
   ]
  },
  {
   "cell_type": "code",
   "execution_count": 57,
   "metadata": {
    "collapsed": false
   },
   "outputs": [],
   "source": [
    "with open('MonthlyMailLog.csv','w') as csvfile:\n",
    "    writer = csv.writer(csvfile)  \n",
    "    writer.writerow(di.keys())\n",
    "    writer.writerow(di.values())\n",
    "        "
   ]
  },
  {
   "cell_type": "code",
   "execution_count": null,
   "metadata": {
    "collapsed": true
   },
   "outputs": [],
   "source": [
    "x=[]\n",
    "y=[]\n",
    "with open('data.csv','r') as file:\n",
    "    reader=csv.reader(file)\n",
    "    next(reader,None) #Ignoring the headers from the csv file\n",
    "    for row in reader:\n",
    "        x.append(math.log10(int(row[1])))\n",
    "        y.append(math.log10(int(row[2])))\n",
    "plt.plot(x,y)\n",
    "plt.xlabel('Log-Rank',fontweight='bold')\n",
    "plt.ylabel('Log-Frequency',fontweight='bold')\n",
    "plt.title(\"Zipf's Law for reuters corpora\",fontweight='bold')\n",
    "plt.show()"
   ]
  }
 ],
 "metadata": {
  "kernelspec": {
   "display_name": "Python 3",
   "language": "python",
   "name": "python3"
  },
  "language_info": {
   "codemirror_mode": {
    "name": "ipython",
    "version": 3
   },
   "file_extension": ".py",
   "mimetype": "text/x-python",
   "name": "python",
   "nbconvert_exporter": "python",
   "pygments_lexer": "ipython3",
   "version": "3.6.0"
  }
 },
 "nbformat": 4,
 "nbformat_minor": 2
}
