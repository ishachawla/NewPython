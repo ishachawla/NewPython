{
 "cells": [
  {
   "cell_type": "markdown",
   "metadata": {
    "collapsed": false
   },
   "source": [
    "Program to find the probability of a name being a male name or a female name by checking the last character of the female names and male names"
   ]
  },
  {
   "cell_type": "code",
   "execution_count": 5,
   "metadata": {
    "collapsed": false
   },
   "outputs": [],
   "source": [
    "import nltk\n",
    "from nltk.corpus import names"
   ]
  },
  {
   "cell_type": "code",
   "execution_count": 3,
   "metadata": {
    "collapsed": false
   },
   "outputs": [
    {
     "data": {
      "text/plain": [
       "['female.txt', 'male.txt']"
      ]
     },
     "execution_count": 3,
     "metadata": {},
     "output_type": "execute_result"
    }
   ],
   "source": [
    "names.fileids()"
   ]
  },
  {
   "cell_type": "code",
   "execution_count": 16,
   "metadata": {
    "collapsed": false
   },
   "outputs": [],
   "source": [
    "male = nltk.corpus.names.words('male.txt')  #Male Names\n",
    "female = nltk.corpus.names.words('female.txt') #Female Names\n",
    "names = []       #List that will contain all the names                              \n",
    "names.extend(female)       \n",
    "names.extend(male)        \n",
    "char=['a','b','c','d','e','f','g','h','i','j','k','l','m','n','o','p','q','r','s','t','u','v','w','x','y','z']#list of characters"
   ]
  },
  {
   "cell_type": "code",
   "execution_count": 19,
   "metadata": {
    "collapsed": false
   },
   "outputs": [
    {
     "name": "stdout",
     "output_type": "stream",
     "text": [
      "FOR CHARACTER: a\n",
      "Probaility of male name: 1.609322974472808\n",
      "Probability of female name: 98.3906770255272\n",
      "FOR CHARACTER: b\n",
      "Probaility of male name: 70.0\n",
      "Probability of female name: 30.0\n",
      "FOR CHARACTER: c\n",
      "Probaility of male name: 100.0\n",
      "Probability of female name: 0.0\n",
      "FOR CHARACTER: d\n",
      "Probaility of male name: 85.39325842696628\n",
      "Probability of female name: 14.606741573033707\n",
      "FOR CHARACTER: e\n",
      "Probaility of male name: 24.63157894736842\n",
      "Probability of female name: 75.36842105263158\n",
      "FOR CHARACTER: f\n",
      "Probaility of male name: 92.5925925925926\n",
      "Probability of female name: 7.4074074074074066\n",
      "FOR CHARACTER: g\n",
      "Probaility of male name: 76.19047619047619\n",
      "Probability of female name: 23.809523809523807\n",
      "FOR CHARACTER: h\n",
      "Probaility of male name: 46.96969696969697\n",
      "Probability of female name: 53.03030303030303\n",
      "FOR CHARACTER: i\n",
      "Probaility of male name: 13.623978201634879\n",
      "Probability of female name: 86.37602179836512\n",
      "FOR CHARACTER: j\n",
      "Probaility of male name: 75.0\n",
      "Probability of female name: 25.0\n",
      "FOR CHARACTER: k\n",
      "Probaility of male name: 95.83333333333334\n",
      "Probability of female name: 4.166666666666666\n",
      "FOR CHARACTER: l\n",
      "Probaility of male name: 51.09289617486339\n",
      "Probability of female name: 48.90710382513661\n",
      "FOR CHARACTER: m\n",
      "Probaility of male name: 84.33734939759037\n",
      "Probability of female name: 15.66265060240964\n",
      "FOR CHARACTER: n\n",
      "Probaility of male name: 55.32407407407407\n",
      "Probability of female name: 44.675925925925924\n",
      "FOR CHARACTER: o\n",
      "Probaility of male name: 83.33333333333334\n",
      "Probability of female name: 16.666666666666664\n",
      "FOR CHARACTER: p\n",
      "Probaility of male name: 90.0\n",
      "Probability of female name: 10.0\n",
      "FOR CHARACTER: q\n",
      "Probaility of male name: 0\n",
      "Probability of female name: 0\n",
      "FOR CHARACTER: r\n",
      "Probaility of male name: 80.16877637130801\n",
      "Probability of female name: 19.831223628691983\n",
      "FOR CHARACTER: s\n",
      "Probaility of male name: 71.20743034055728\n",
      "Probability of female name: 28.792569659442723\n",
      "FOR CHARACTER: t\n",
      "Probaility of male name: 70.6896551724138\n",
      "Probability of female name: 29.310344827586203\n",
      "FOR CHARACTER: u\n",
      "Probaility of male name: 66.66666666666666\n",
      "Probability of female name: 33.33333333333333\n",
      "FOR CHARACTER: v\n",
      "Probaility of male name: 88.88888888888889\n",
      "Probability of female name: 11.11111111111111\n",
      "FOR CHARACTER: w\n",
      "Probaility of male name: 77.27272727272727\n",
      "Probability of female name: 22.727272727272727\n",
      "FOR CHARACTER: x\n",
      "Probaility of male name: 50.0\n",
      "Probability of female name: 50.0\n",
      "FOR CHARACTER: y\n",
      "Probaility of male name: 41.86633039092055\n",
      "Probability of female name: 58.13366960907944\n",
      "FOR CHARACTER: z\n",
      "Probaility of male name: 73.33333333333333\n",
      "Probability of female name: 26.666666666666668\n"
     ]
    }
   ],
   "source": [
    "for x in char:\n",
    "    Total_Names  = 0\n",
    "    male_names = 0\n",
    "    female_names = 0\n",
    "    probability_males = 0\n",
    "    probability_females = 0\n",
    "    for name in names:\n",
    "        if name.endswith(x):\n",
    "            Total_Names += 1\n",
    "    for name in male:\n",
    "        if name.endswith(x):\n",
    "            male_names += 1\n",
    "    for name in female:\n",
    "        if name.endswith(x):\n",
    "            female_names += 1\n",
    "    if Total_Names > 0:\n",
    "        probability_males = 100 * (male_names/Total_Names) #probability of the name being a male name\n",
    "        probability_females = 100 * (female_names/Total_Names) #probability of the name being a female name\n",
    "    print ('FOR CHARACTER:',x)\n",
    "    print('Probaility of male name:', probability_males )\n",
    "    print('Probability of female name:', probability_females)   \n"
   ]
  },
  {
   "cell_type": "code",
   "execution_count": null,
   "metadata": {
    "collapsed": false
   },
   "outputs": [],
   "source": [
    "\n"
   ]
  },
  {
   "cell_type": "code",
   "execution_count": null,
   "metadata": {
    "collapsed": false
   },
   "outputs": [],
   "source": []
  },
  {
   "cell_type": "code",
   "execution_count": null,
   "metadata": {
    "collapsed": false
   },
   "outputs": [],
   "source": []
  },
  {
   "cell_type": "code",
   "execution_count": null,
   "metadata": {
    "collapsed": false
   },
   "outputs": [],
   "source": []
  },
  {
   "cell_type": "code",
   "execution_count": null,
   "metadata": {
    "collapsed": false
   },
   "outputs": [],
   "source": []
  },
  {
   "cell_type": "code",
   "execution_count": null,
   "metadata": {
    "collapsed": false
   },
   "outputs": [],
   "source": []
  },
  {
   "cell_type": "code",
   "execution_count": null,
   "metadata": {
    "collapsed": true
   },
   "outputs": [],
   "source": []
  }
 ],
 "metadata": {
  "anaconda-cloud": {},
  "kernelspec": {
   "display_name": "Python [conda root]",
   "language": "python",
   "name": "conda-root-py"
  },
  "language_info": {
   "codemirror_mode": {
    "name": "ipython",
    "version": 3
   },
   "file_extension": ".py",
   "mimetype": "text/x-python",
   "name": "python",
   "nbconvert_exporter": "python",
   "pygments_lexer": "ipython3",
   "version": "3.5.2"
  }
 },
 "nbformat": 4,
 "nbformat_minor": 1
}
