{
 "cells": [
  {
   "cell_type": "markdown",
   "metadata": {},
   "source": [
    "Saved stopwords and found out the frequency of mails recieved in this folder"
   ]
  },
  {
   "cell_type": "code",
   "execution_count": 51,
   "metadata": {
    "collapsed": false
   },
   "outputs": [],
   "source": [
    "import os\n",
    "from email.parser import Parser\n",
    "import nltk\n",
    "from nltk.tokenize import word_tokenize\n",
    "from nltk.corpus import stopwords\n",
    "import csv\n",
    "import datetime\n",
    "import dateutil.parser as parser\n",
    "import matplotlib.pyplot as plt"
   ]
  },
  {
   "cell_type": "code",
   "execution_count": 52,
   "metadata": {
    "collapsed": false
   },
   "outputs": [],
   "source": [
    "rootdir=r\"C:\\Users\\ishac\\enron_mail_20150507\\skilling-j\\inbox\\genie\""
   ]
  },
  {
   "cell_type": "code",
   "execution_count": 64,
   "metadata": {
    "collapsed": true
   },
   "outputs": [],
   "source": [
    "\n",
    "def email_analyse(inputfile, to_email_list, from_email_list, email_body,email_date):\n",
    "    with open(inputfile, \"r\") as f:\n",
    "        data = f.read()\n",
    "        email = Parser().parsestr(data) \n",
    "    if email['to']:\n",
    "        email_to = email['to']\n",
    "        email_to = email_to.replace(\"\\n\", \"\")\n",
    "        email_to = email_to.replace(\"\\t\", \"\")\n",
    "        email_to = email_to.replace(\" \", \"\")\n",
    "\n",
    "        email_to = email_to.split(\",\")\n",
    "\n",
    "        for email_to_1 in email_to:\n",
    "            to_email_list.append(email_to_1)\n",
    "\n",
    "    from_email_list.append(email['from'])\n",
    "\n",
    "    email_body.append(email.get_payload())\n",
    "    email_date.append(email['date'])"
   ]
  },
  {
   "cell_type": "code",
   "execution_count": 65,
   "metadata": {
    "collapsed": false
   },
   "outputs": [],
   "source": [
    "to_email_list=[]\n",
    "from_email_list=[]\n",
    "email_body=[]\n",
    "email_date=[]\n",
    "for directory, subdirectory, filenames in  os.walk(rootdir):\n",
    "    for filename in filenames:\n",
    "        email_analyse(os.path.join(directory, filename), to_email_list, from_email_list, email_body,email_date)"
   ]
  },
  {
   "cell_type": "code",
   "execution_count": 66,
   "metadata": {
    "collapsed": false
   },
   "outputs": [],
   "source": [
    "for i in range(len(email_body)):\n",
    "    words= word_tokenize(email_body[i])\n",
    "    #print(words)"
   ]
  },
  {
   "cell_type": "code",
   "execution_count": 67,
   "metadata": {
    "collapsed": false
   },
   "outputs": [],
   "source": [
    "useful_words=[]\n",
    "useful_words=[word  for word in words if word not in stopwords.words('English')]\n",
    "#print(useful_words)"
   ]
  },
  {
   "cell_type": "code",
   "execution_count": 78,
   "metadata": {
    "collapsed": false
   },
   "outputs": [],
   "source": [
    "\n",
    "with open('DetailMailLog.csv','w') as csvfile:\n",
    "    writer = csv.writer(csvfile)  \n",
    "    writer.writerow(to_email_list)\n",
    "    writer.writerow(from_email_list) \n",
    "    writer.writerow(email_date)\n",
    "        "
   ]
  },
  {
   "cell_type": "code",
   "execution_count": 77,
   "metadata": {
    "collapsed": false
   },
   "outputs": [
    {
     "data": {
      "image/png": "[encoded data removed]",
      "text/plain": [
       "<matplotlib.figure.Figure at 0x24a52a718d0>"
      ]
     },
     "metadata": {},
     "output_type": "display_data"
    }
   ],
   "source": [
    "plt.bar(range(len(di)), di.values(), align='center')\n",
    "plt.xticks(range(len(di)), list(di.keys()))\n",
    "plt.show()\n"
   ]
  },
  {
   "cell_type": "code",
   "execution_count": 72,
   "metadata": {
    "collapsed": false
   },
   "outputs": [],
   "source": [
    "f = open('Analysis.txt','w',encoding='utf-8') \n",
    "f.write('DATA\\n')\n",
    "for item in useful_words:\n",
    "        f.write(\"%s\\n\" %item)\n",
    "    "
   ]
  }
 ],
 "metadata": {
  "kernelspec": {
   "display_name": "Python 3",
   "language": "python",
   "name": "python3"
  },
  "language_info": {
   "codemirror_mode": {
    "name": "ipython",
    "version": 3
   },
   "file_extension": ".py",
   "mimetype": "text/x-python",
   "name": "python",
   "nbconvert_exporter": "python",
   "pygments_lexer": "ipython3",
   "version": "3.6.0"
  }
 },
 "nbformat": 4,
 "nbformat_minor": 2
}
