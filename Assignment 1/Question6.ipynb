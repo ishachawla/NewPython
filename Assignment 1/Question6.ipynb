{
 "cells": [
  {
   "cell_type": "markdown",
   "metadata": {
    "collapsed": true
   },
   "source": [
    "Unique words said by president"
   ]
  },
  {
   "cell_type": "code",
   "execution_count": 4,
   "metadata": {
    "collapsed": false
   },
   "outputs": [],
   "source": [
    "import nltk\n",
    "from nltk.corpus import inaugural"
   ]
  },
  {
   "cell_type": "code",
   "execution_count": 5,
   "metadata": {
    "collapsed": false
   },
   "outputs": [
    {
     "data": {
      "text/plain": [
       "['1789-Washington.txt',\n",
       " '1793-Washington.txt',\n",
       " '1797-Adams.txt',\n",
       " '1801-Jefferson.txt',\n",
       " '1805-Jefferson.txt',\n",
       " '1809-Madison.txt',\n",
       " '1813-Madison.txt',\n",
       " '1817-Monroe.txt',\n",
       " '1821-Monroe.txt',\n",
       " '1825-Adams.txt',\n",
       " '1829-Jackson.txt',\n",
       " '1833-Jackson.txt',\n",
       " '1837-VanBuren.txt',\n",
       " '1841-Harrison.txt',\n",
       " '1845-Polk.txt',\n",
       " '1849-Taylor.txt',\n",
       " '1853-Pierce.txt',\n",
       " '1857-Buchanan.txt',\n",
       " '1861-Lincoln.txt',\n",
       " '1865-Lincoln.txt',\n",
       " '1869-Grant.txt',\n",
       " '1873-Grant.txt',\n",
       " '1877-Hayes.txt',\n",
       " '1881-Garfield.txt',\n",
       " '1885-Cleveland.txt',\n",
       " '1889-Harrison.txt',\n",
       " '1893-Cleveland.txt',\n",
       " '1897-McKinley.txt',\n",
       " '1901-McKinley.txt',\n",
       " '1905-Roosevelt.txt',\n",
       " '1909-Taft.txt',\n",
       " '1913-Wilson.txt',\n",
       " '1917-Wilson.txt',\n",
       " '1921-Harding.txt',\n",
       " '1925-Coolidge.txt',\n",
       " '1929-Hoover.txt',\n",
       " '1933-Roosevelt.txt',\n",
       " '1937-Roosevelt.txt',\n",
       " '1941-Roosevelt.txt',\n",
       " '1945-Roosevelt.txt',\n",
       " '1949-Truman.txt',\n",
       " '1953-Eisenhower.txt',\n",
       " '1957-Eisenhower.txt',\n",
       " '1961-Kennedy.txt',\n",
       " '1965-Johnson.txt',\n",
       " '1969-Nixon.txt',\n",
       " '1973-Nixon.txt',\n",
       " '1977-Carter.txt',\n",
       " '1981-Reagan.txt',\n",
       " '1985-Reagan.txt',\n",
       " '1989-Bush.txt',\n",
       " '1993-Clinton.txt',\n",
       " '1997-Clinton.txt',\n",
       " '2001-Bush.txt',\n",
       " '2005-Bush.txt',\n",
       " '2009-Obama.txt']"
      ]
     },
     "execution_count": 5,
     "metadata": {},
     "output_type": "execute_result"
    }
   ],
   "source": [
    "inaugural.fileids()     #Files in inaugural"
   ]
  },
  {
   "cell_type": "code",
   "execution_count": 6,
   "metadata": {
    "collapsed": false
   },
   "outputs": [],
   "source": [
    "from os.path import basename\n",
    "from os.path import splitext       "
   ]
  },
  {
   "cell_type": "code",
   "execution_count": 9,
   "metadata": {
    "collapsed": false
   },
   "outputs": [
    {
     "name": "stdout",
     "output_type": "stream",
     "text": [
      "The unique words of the president 1789-Washington and unique words are: 604\n",
      "The unique words of the president 1793-Washington and unique words are: 95\n",
      "The unique words of the president 1797-Adams and unique words are: 803\n",
      "The unique words of the president 1801-Jefferson and unique words are: 687\n",
      "The unique words of the president 1805-Jefferson and unique words are: 783\n",
      "The unique words of the president 1809-Madison and unique words are: 526\n",
      "The unique words of the president 1813-Madison and unique words are: 524\n",
      "The unique words of the president 1817-Monroe and unique words are: 987\n",
      "The unique words of the president 1821-Monroe and unique words are: 1213\n",
      "The unique words of the president 1825-Adams and unique words are: 972\n",
      "The unique words of the president 1829-Jackson and unique words are: 504\n",
      "The unique words of the president 1833-Jackson and unique words are: 482\n",
      "The unique words of the president 1837-VanBuren and unique words are: 1267\n",
      "The unique words of the president 1841-Harrison and unique words are: 1813\n",
      "The unique words of the president 1845-Polk and unique words are: 1267\n",
      "The unique words of the president 1849-Taylor and unique words are: 488\n",
      "The unique words of the president 1853-Pierce and unique words are: 1124\n",
      "The unique words of the president 1857-Buchanan and unique words are: 902\n",
      "The unique words of the president 1861-Lincoln and unique words are: 1019\n",
      "The unique words of the president 1865-Lincoln and unique words are: 345\n",
      "The unique words of the president 1869-Grant and unique words are: 474\n",
      "The unique words of the president 1873-Grant and unique words are: 530\n",
      "The unique words of the president 1877-Hayes and unique words are: 808\n",
      "The unique words of the president 1881-Garfield and unique words are: 981\n",
      "The unique words of the president 1885-Cleveland and unique words are: 650\n",
      "The unique words of the president 1889-Harrison and unique words are: 1313\n",
      "The unique words of the president 1893-Cleveland and unique words are: 799\n",
      "The unique words of the president 1897-McKinley and unique words are: 1199\n",
      "The unique words of the president 1901-McKinley and unique words are: 828\n",
      "The unique words of the president 1905-Roosevelt and unique words are: 388\n",
      "The unique words of the president 1909-Taft and unique words are: 1385\n",
      "The unique words of the president 1913-Wilson and unique words are: 637\n",
      "The unique words of the president 1917-Wilson and unique words are: 529\n",
      "The unique words of the president 1921-Harding and unique words are: 1126\n",
      "The unique words of the president 1925-Coolidge and unique words are: 1164\n",
      "The unique words of the president 1929-Hoover and unique words are: 998\n",
      "The unique words of the president 1933-Roosevelt and unique words are: 715\n",
      "The unique words of the president 1937-Roosevelt and unique words are: 698\n",
      "The unique words of the president 1941-Roosevelt and unique words are: 502\n",
      "The unique words of the president 1945-Roosevelt and unique words are: 270\n",
      "The unique words of the president 1949-Truman and unique words are: 745\n",
      "The unique words of the president 1953-Eisenhower and unique words are: 864\n",
      "The unique words of the president 1957-Eisenhower and unique words are: 592\n",
      "The unique words of the president 1961-Kennedy and unique words are: 546\n",
      "The unique words of the president 1965-Johnson and unique words are: 538\n",
      "The unique words of the president 1969-Nixon and unique words are: 714\n",
      "The unique words of the president 1973-Nixon and unique words are: 516\n",
      "The unique words of the president 1977-Carter and unique words are: 504\n",
      "The unique words of the president 1981-Reagan and unique words are: 855\n",
      "The unique words of the president 1985-Reagan and unique words are: 876\n",
      "The unique words of the president 1989-Bush and unique words are: 754\n",
      "The unique words of the president 1993-Clinton and unique words are: 604\n",
      "The unique words of the president 1997-Clinton and unique words are: 727\n",
      "The unique words of the president 2001-Bush and unique words are: 593\n",
      "The unique words of the president 2005-Bush and unique words are: 742\n",
      "The unique words of the president 2009-Obama and unique words are: 900\n"
     ]
    }
   ],
   "source": [
    "for file in inaugural.fileids():  \n",
    "    base = basename(file)         #splitting file names\n",
    "    name = splitext(base)[0]\n",
    "    words=inaugural.words(file)\n",
    "    unique_words=len(set(a.lower() for a in words)) #Counting unique words\n",
    "    print('The unique words of the president',name, 'and unique words are:',unique_words)"
   ]
  }
 ],
 "metadata": {
  "anaconda-cloud": {},
  "kernelspec": {
   "display_name": "Python [conda root]",
   "language": "python",
   "name": "conda-root-py"
  },
  "language_info": {
   "codemirror_mode": {
    "name": "ipython",
    "version": 3
   },
   "file_extension": ".py",
   "mimetype": "text/x-python",
   "name": "python",
   "nbconvert_exporter": "python",
   "pygments_lexer": "ipython3",
   "version": "3.5.2"
  }
 },
 "nbformat": 4,
 "nbformat_minor": 1
}
