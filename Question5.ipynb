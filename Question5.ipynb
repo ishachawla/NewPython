{
 "cells": [
  {
   "cell_type": "markdown",
   "metadata": {},
   "source": [
    "Program to find top 5 letters in Shakespeare that are not currently used and finding top 50 words in Gutenberg(Shakespeare) and WebText"
   ]
  },
  {
   "cell_type": "code",
   "execution_count": 128,
   "metadata": {
    "collapsed": true
   },
   "outputs": [],
   "source": [
    "import nltk"
   ]
  },
  {
   "cell_type": "code",
   "execution_count": 129,
   "metadata": {
    "collapsed": true
   },
   "outputs": [],
   "source": [
    "from nltk.corpus import gutenberg\n",
    "from nltk.corpus import webtext\n",
    "from nltk.corpus import stopwords"
   ]
  },
  {
   "cell_type": "code",
   "execution_count": 130,
   "metadata": {
    "collapsed": false
   },
   "outputs": [],
   "source": [
    "#files in Gutenberg Corpus\n",
    "files=gutenberg.fileids()"
   ]
  },
  {
   "cell_type": "code",
   "execution_count": 131,
   "metadata": {
    "collapsed": false
   },
   "outputs": [],
   "source": [
    "#files in WebText Corpus\n",
    "webtextfiles=webtext.fileids()"
   ]
  },
  {
   "cell_type": "code",
   "execution_count": 132,
   "metadata": {
    "collapsed": false
   },
   "outputs": [],
   "source": [
    "sp=stopwords.words('english')  #list of all the stopwords"
   ]
  },
  {
   "cell_type": "code",
   "execution_count": 133,
   "metadata": {
    "collapsed": false
   },
   "outputs": [],
   "source": [
    "shakespeare=[]       #list containing words from shakespeare's books\n",
    "for x in files:\n",
    "    if x.startswith('shakespeare'):\n",
    "        for word in gutenberg.words(x):\n",
    "            if word.isalpha():\n",
    "                if word.lower() not in sp:\n",
    "                    shakespeare.append(word)"
   ]
  },
  {
   "cell_type": "code",
   "execution_count": 134,
   "metadata": {
    "collapsed": false
   },
   "outputs": [],
   "source": [
    "di={}   #Finding the occurence of words in the Shakespeare List\n",
    "for x in shakespeare:\n",
    "    if x in di:\n",
    "        di[x]=di[x]+1\n",
    "    else:\n",
    "        di[x]=1\n",
    "        "
   ]
  },
  {
   "cell_type": "code",
   "execution_count": 135,
   "metadata": {
    "collapsed": false
   },
   "outputs": [],
   "source": [
    "from operator import itemgetter   #Sorting a dictionary \n",
    "from collections import OrderedDict\n",
    "d = OrderedDict(sorted(di.items(), key=itemgetter(1))[-5:])"
   ]
  },
  {
   "cell_type": "code",
   "execution_count": 136,
   "metadata": {
    "collapsed": false
   },
   "outputs": [
    {
     "name": "stdout",
     "output_type": "stream",
     "text": [
      "OrderedDict([('thou', 256), ('shall', 259), ('Lord', 293), ('Ham', 337), ('haue', 406)])\n"
     ]
    }
   ],
   "source": [
    "#Top 5 words in Shakespeare not used currently with frequencies\n",
    "print(d)"
   ]
  },
  {
   "cell_type": "code",
   "execution_count": 137,
   "metadata": {
    "collapsed": false
   },
   "outputs": [
    {
     "name": "stdout",
     "output_type": "stream",
     "text": [
      "['Tragedie', 'Julius', 'Caesar', 'William', 'Shakespeare', 'Actus', 'Primus', 'Scoena', 'Prima', 'Enter', 'Flauius', 'Murellus', 'certaine', 'Commoners', 'ouer', 'Stage', 'Flauius', 'Hence', 'home', 'idle', 'Creatures', 'get', 'home', 'Holiday', 'know', 'Mechanicall', 'ought', 'walke', 'Vpon', 'labouring', 'day', 'without', 'signe', 'Profession', 'Speake', 'Trade', 'art', 'thou', 'Car', 'Sir', 'Carpenter', 'Mur', 'thy', 'Leather', 'Apron', 'thy', 'Rule', 'dost', 'thou', 'thy']\n"
     ]
    }
   ],
   "source": [
    "#Top 50 words in Shakespeare\n",
    "top50=shakespeare[:50]\n",
    "print(top50)\n"
   ]
  },
  {
   "cell_type": "code",
   "execution_count": 138,
   "metadata": {
    "collapsed": false
   },
   "outputs": [
    {
     "name": "stdout",
     "output_type": "stream",
     "text": [
      "['Don', 't', 'that', 'to', 'should', 'When', 'in', 'should', 'a', 'when', 'only', 'is', 'to', 'So', 'should', 'be', 'a', 'or', 'the', 'for', 's', 'has', 'when', 'is', 'not', 'and', 'for', 'to', 'and', 'then', 'it', 'not', 'doesn', 't', 'at', 'of', 'for', 'is', 'a', 'and', 'for', 'Can', 't', 'while', 'is', 'or', 'not', 'when', 'all', 'are']\n"
     ]
    }
   ],
   "source": [
    "#Top 50 words in WebText\n",
    "webwords=[]\n",
    "for f in webtextfiles:\n",
    "       if f in webtextfiles:\n",
    "        for word in webtext.words(f):\n",
    "            if word.isalpha():\n",
    "                if word.lower() in sp:\n",
    "                    webwords.append(word)\n",
    "print (webwords[:50])"
   ]
  },
  {
   "cell_type": "code",
   "execution_count": null,
   "metadata": {
    "collapsed": false
   },
   "outputs": [],
   "source": []
  },
  {
   "cell_type": "code",
   "execution_count": null,
   "metadata": {
    "collapsed": false
   },
   "outputs": [],
   "source": []
  },
  {
   "cell_type": "code",
   "execution_count": null,
   "metadata": {
    "collapsed": true
   },
   "outputs": [],
   "source": []
  },
  {
   "cell_type": "markdown",
   "metadata": {},
   "source": []
  }
 ],
 "metadata": {
  "kernelspec": {
   "display_name": "Python [conda root]",
   "language": "python",
   "name": "conda-root-py"
  },
  "language_info": {
   "codemirror_mode": {
    "name": "ipython",
    "version": 3
   },
   "file_extension": ".py",
   "mimetype": "text/x-python",
   "name": "python",
   "nbconvert_exporter": "python",
   "pygments_lexer": "ipython3",
   "version": "3.5.2"
  }
 },
 "nbformat": 4,
 "nbformat_minor": 1
}
